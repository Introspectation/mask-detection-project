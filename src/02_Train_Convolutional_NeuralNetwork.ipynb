{
 "cells": [
  {
   "metadata": {},
   "cell_type": "markdown",
   "source": "TRAIN DEEP LEARNING MODEL",
   "id": "839193f4f62dfb3d"
  },
  {
   "metadata": {},
   "cell_type": "markdown",
   "source": "### step-1 Load the preprocess data",
   "id": "82d183edb05b3659"
  },
  {
   "metadata": {
    "ExecuteTime": {
     "end_time": "2024-06-01T15:11:53.208751Z",
     "start_time": "2024-06-01T15:11:52.984351Z"
    }
   },
   "cell_type": "code",
   "source": [
    "import os\n",
    "import numpy as np\n",
    "import cv2\n",
    "import gc"
   ],
   "id": "8615f675adf1a10",
   "outputs": [],
   "execution_count": 1
  },
  {
   "metadata": {
    "ExecuteTime": {
     "end_time": "2024-06-01T15:11:53.224706Z",
     "start_time": "2024-06-01T15:11:53.211747Z"
    }
   },
   "cell_type": "code",
   "source": [
    "# Projenin rootunu src'den bir kademe yukarıya çek\n",
    "project_root = 'C:/Users/mertt/PycharmProjects/mask-detection-project'\n"
   ],
   "id": "13a6df734459ba6",
   "outputs": [],
   "execution_count": 2
  },
  {
   "metadata": {
    "ExecuteTime": {
     "end_time": "2024-06-01T15:11:53.240671Z",
     "start_time": "2024-06-01T15:11:53.229696Z"
    }
   },
   "cell_type": "code",
   "source": [
    "# Çalışan dosya dizinini roota çek\n",
    "os.chdir(project_root)\n",
    "print(\"Çalışan dosya dizini:\", os.getcwd())"
   ],
   "id": "6bee0eddfec8096",
   "outputs": [
    {
     "name": "stdout",
     "output_type": "stream",
     "text": [
      "Çalışan dosya dizini: C:\\Users\\mertt\\PycharmProjects\\mask-detection-project\n"
     ]
    }
   ],
   "execution_count": 3
  },
  {
   "metadata": {
    "ExecuteTime": {
     "end_time": "2024-06-01T15:11:53.255626Z",
     "start_time": "2024-06-01T15:11:53.245652Z"
    }
   },
   "cell_type": "code",
   "source": [
    "#Load the preprocessed data\n",
    "data = np.load('./data/data_preprocess.npz')"
   ],
   "id": "4ad73ffca2224e57",
   "outputs": [],
   "execution_count": 4
  },
  {
   "metadata": {
    "ExecuteTime": {
     "end_time": "2024-06-01T15:11:55.510595Z",
     "start_time": "2024-06-01T15:11:53.258617Z"
    }
   },
   "cell_type": "code",
   "source": [
    "X =data ['arr_0']\n",
    "y = data['arr_1']"
   ],
   "id": "bfb8916ae85daf30",
   "outputs": [],
   "execution_count": 5
  },
  {
   "metadata": {
    "ExecuteTime": {
     "end_time": "2024-06-01T15:11:55.526553Z",
     "start_time": "2024-06-01T15:11:55.512590Z"
    }
   },
   "cell_type": "code",
   "source": "X.shape, y.shape",
   "id": "b93cf76ffbfdc8c2",
   "outputs": [
    {
     "data": {
      "text/plain": [
       "((9959, 100, 100, 3), (9959,))"
      ]
     },
     "execution_count": 6,
     "metadata": {},
     "output_type": "execute_result"
    }
   ],
   "execution_count": 6
  },
  {
   "metadata": {
    "ExecuteTime": {
     "end_time": "2024-06-01T15:11:55.542510Z",
     "start_time": "2024-06-01T15:11:55.528547Z"
    }
   },
   "cell_type": "code",
   "source": "np.unique(y)",
   "id": "41acb93d24df9069",
   "outputs": [
    {
     "data": {
      "text/plain": [
       "array(['Mask', 'Mask_Chin', 'Mask_Mouth_Chin', 'Mask_Nose_Mouth'],\n",
       "      dtype='<U15')"
      ]
     },
     "execution_count": 7,
     "metadata": {},
     "output_type": "execute_result"
    }
   ],
   "execution_count": 7
  },
  {
   "metadata": {},
   "cell_type": "markdown",
   "source": "### Preprocessing \"y\"",
   "id": "96723b4a44d6da2b"
  },
  {
   "metadata": {
    "ExecuteTime": {
     "end_time": "2024-06-01T15:11:55.558468Z",
     "start_time": "2024-06-01T15:11:55.545502Z"
    }
   },
   "cell_type": "code",
   "source": "np.unique(y)",
   "id": "712db4ba9f2ea304",
   "outputs": [
    {
     "data": {
      "text/plain": [
       "array(['Mask', 'Mask_Chin', 'Mask_Mouth_Chin', 'Mask_Nose_Mouth'],\n",
       "      dtype='<U15')"
      ]
     },
     "execution_count": 8,
     "metadata": {},
     "output_type": "execute_result"
    }
   ],
   "execution_count": 8
  },
  {
   "metadata": {
    "ExecuteTime": {
     "end_time": "2024-06-01T15:11:56.617637Z",
     "start_time": "2024-06-01T15:11:55.560463Z"
    }
   },
   "cell_type": "code",
   "source": "from sklearn.preprocessing import OneHotEncoder",
   "id": "6df0b9e6d37c4053",
   "outputs": [],
   "execution_count": 9
  },
  {
   "metadata": {
    "ExecuteTime": {
     "end_time": "2024-06-01T15:11:56.647559Z",
     "start_time": "2024-06-01T15:11:56.619631Z"
    }
   },
   "cell_type": "code",
   "source": [
    "onehot = OneHotEncoder()\n",
    "y_onehot = onehot.fit_transform(y.reshape(-1, 1))"
   ],
   "id": "aad0f8ef60a9237",
   "outputs": [],
   "execution_count": 10
  },
  {
   "metadata": {
    "ExecuteTime": {
     "end_time": "2024-06-01T15:12:11.269646Z",
     "start_time": "2024-06-01T15:12:11.254686Z"
    }
   },
   "cell_type": "code",
   "source": "y_array = y_onehot.toarray()",
   "id": "27de2caed021f999",
   "outputs": [],
   "execution_count": 12
  },
  {
   "metadata": {
    "ExecuteTime": {
     "end_time": "2024-06-01T15:13:25.855266Z",
     "start_time": "2024-06-01T15:13:25.845293Z"
    }
   },
   "cell_type": "code",
   "source": [
    "y_array.shape\n",
    "#1st column belongst o mask 1 or 0 etc for categories\n",
    "#mask chin\n",
    "#mask mouth chin\n",
    "#mask nose chin mouth"
   ],
   "id": "b5fd567c68853415",
   "outputs": [
    {
     "data": {
      "text/plain": [
       "(9959, 4)"
      ]
     },
     "execution_count": 15,
     "metadata": {},
     "output_type": "execute_result"
    }
   ],
   "execution_count": 15
  },
  {
   "metadata": {},
   "cell_type": "markdown",
   "source": "### Split the Data into Train and Test sets",
   "id": "67be13a4c5faafa7"
  },
  {
   "metadata": {
    "ExecuteTime": {
     "end_time": "2024-06-01T15:15:12.914776Z",
     "start_time": "2024-06-01T15:15:12.490909Z"
    }
   },
   "cell_type": "code",
   "source": [
    "from sklearn.model_selection import train_test_split\n",
    "x_train, x_test, y_train, y_test = train_test_split(X, y_array, test_size=0.2, random_state=42)"
   ],
   "id": "930623222f654a71",
   "outputs": [],
   "execution_count": 16
  },
  {
   "metadata": {
    "ExecuteTime": {
     "end_time": "2024-06-01T15:15:30.400420Z",
     "start_time": "2024-06-01T15:15:30.387454Z"
    }
   },
   "cell_type": "code",
   "source": "x_train.shape, x_test.shape, y_train.shape, y_test.shape",
   "id": "c2f9d0c3c5ce366c",
   "outputs": [
    {
     "data": {
      "text/plain": [
       "((7967, 100, 100, 3), (1992, 100, 100, 3), (7967, 4), (1992, 4))"
      ]
     },
     "execution_count": 17,
     "metadata": {},
     "output_type": "execute_result"
    }
   ],
   "execution_count": 17
  },
  {
   "metadata": {},
   "cell_type": "markdown",
   "source": [
    "### DEEP LEARNING MODEL\n",
    "![Description of image](../architecture.png)\n",
    "\n"
   ],
   "id": "f4fc47c979617af7"
  },
  {
   "metadata": {
    "ExecuteTime": {
     "end_time": "2024-06-01T15:40:26.513843Z",
     "start_time": "2024-06-01T15:40:23.384468Z"
    }
   },
   "cell_type": "code",
   "source": [
    "import tensorflow as tf\n",
    "from tensorflow.keras import layers\n",
    "from tensorflow.keras.models import Sequential"
   ],
   "id": "e850bc6cd42c8fa",
   "outputs": [],
   "execution_count": 18
  },
  {
   "metadata": {
    "ExecuteTime": {
     "end_time": "2024-06-01T15:48:47.178685Z",
     "start_time": "2024-06-01T15:48:46.798196Z"
    }
   },
   "cell_type": "code",
   "source": [
    "# convolutional neural network\n",
    "\n",
    "model = Sequential([\n",
    "    layers.Conv2D(16, 3, padding='same', input_shape=(100, 100, 3), activation='relu'),\n",
    "    layers.MaxPool2D(),\n",
    "    layers.Conv2D(32, 3, padding='same', activation='relu'),\n",
    "    layers.MaxPool2D(),\n",
    "    layers.Conv2D(64, 3, padding='same', activation='relu'),\n",
    "    layers.MaxPool2D(),\n",
    "    layers.Flatten(),\n",
    "    layers.Dense(192, activation='relu'),\n",
    "    layers.Dense(128, activation='relu'),\n",
    "    layers.Dense(4, activation='sigmoid')\n",
    "])\n",
    "\n",
    "#compiling CNN\n",
    "model.compile(optimizer=tf.keras.optimizers.Adam(learning_rate=0.001), loss=tf.keras.losses.categorical_crossentropy, metrics=['accuracy'])"
   ],
   "id": "a07bbe022e31a0eb",
   "outputs": [],
   "execution_count": 19
  },
  {
   "metadata": {
    "ExecuteTime": {
     "end_time": "2024-06-01T15:50:54.738203Z",
     "start_time": "2024-06-01T15:50:54.695316Z"
    }
   },
   "cell_type": "code",
   "source": "model.summary()",
   "id": "f01934053788109c",
   "outputs": [
    {
     "name": "stdout",
     "output_type": "stream",
     "text": [
      "Model: \"sequential\"\n",
      "_________________________________________________________________\n",
      " Layer (type)                Output Shape              Param #   \n",
      "=================================================================\n",
      " conv2d (Conv2D)             (None, 100, 100, 16)      448       \n",
      "                                                                 \n",
      " max_pooling2d (MaxPooling2  (None, 50, 50, 16)        0         \n",
      " D)                                                              \n",
      "                                                                 \n",
      " conv2d_1 (Conv2D)           (None, 50, 50, 32)        4640      \n",
      "                                                                 \n",
      " max_pooling2d_1 (MaxPoolin  (None, 25, 25, 32)        0         \n",
      " g2D)                                                            \n",
      "                                                                 \n",
      " conv2d_2 (Conv2D)           (None, 25, 25, 64)        18496     \n",
      "                                                                 \n",
      " max_pooling2d_2 (MaxPoolin  (None, 12, 12, 64)        0         \n",
      " g2D)                                                            \n",
      "                                                                 \n",
      " flatten (Flatten)           (None, 9216)              0         \n",
      "                                                                 \n",
      " dense (Dense)               (None, 192)               1769664   \n",
      "                                                                 \n",
      " dense_1 (Dense)             (None, 128)               24704     \n",
      "                                                                 \n",
      " dense_2 (Dense)             (None, 4)                 516       \n",
      "                                                                 \n",
      "=================================================================\n",
      "Total params: 1818468 (6.94 MB)\n",
      "Trainable params: 1818468 (6.94 MB)\n",
      "Non-trainable params: 0 (0.00 Byte)\n",
      "_________________________________________________________________\n"
     ]
    }
   ],
   "execution_count": 22
  },
  {
   "metadata": {
    "ExecuteTime": {
     "end_time": "2024-06-01T16:01:07.651964Z",
     "start_time": "2024-06-01T15:54:17.332467Z"
    }
   },
   "cell_type": "code",
   "source": [
    "# Training CNN,, memory error alırsan batch_sizeyi düşür!\n",
    "history = model.fit(x_train, y_train, validation_data=(x_test, y_test), batch_size=30, epochs=10)"
   ],
   "id": "75396fdd3652aed9",
   "outputs": [
    {
     "name": "stdout",
     "output_type": "stream",
     "text": [
      "Epoch 1/10\n",
      "266/266 [==============================] - 41s 148ms/step - loss: 0.2265 - accuracy: 0.9208 - val_loss: 0.1130 - val_accuracy: 0.9674\n",
      "Epoch 2/10\n",
      "266/266 [==============================] - 44s 164ms/step - loss: 0.0700 - accuracy: 0.9768 - val_loss: 0.0846 - val_accuracy: 0.9704\n",
      "Epoch 3/10\n",
      "266/266 [==============================] - 42s 160ms/step - loss: 0.0474 - accuracy: 0.9852 - val_loss: 0.0561 - val_accuracy: 0.9799\n",
      "Epoch 4/10\n",
      "266/266 [==============================] - 42s 158ms/step - loss: 0.0325 - accuracy: 0.9892 - val_loss: 0.0540 - val_accuracy: 0.9824\n",
      "Epoch 5/10\n",
      "266/266 [==============================] - 41s 155ms/step - loss: 0.0283 - accuracy: 0.9900 - val_loss: 0.0517 - val_accuracy: 0.9804\n",
      "Epoch 6/10\n",
      "266/266 [==============================] - 38s 141ms/step - loss: 0.0202 - accuracy: 0.9935 - val_loss: 0.0844 - val_accuracy: 0.9779\n",
      "Epoch 7/10\n",
      "266/266 [==============================] - 38s 142ms/step - loss: 0.0076 - accuracy: 0.9977 - val_loss: 0.0436 - val_accuracy: 0.9900\n",
      "Epoch 8/10\n",
      "266/266 [==============================] - 38s 142ms/step - loss: 0.0056 - accuracy: 0.9984 - val_loss: 0.0558 - val_accuracy: 0.9874\n",
      "Epoch 9/10\n",
      "266/266 [==============================] - 39s 147ms/step - loss: 0.0185 - accuracy: 0.9941 - val_loss: 0.0577 - val_accuracy: 0.9849\n",
      "Epoch 10/10\n",
      "266/266 [==============================] - 46s 173ms/step - loss: 0.0089 - accuracy: 0.9970 - val_loss: 0.0543 - val_accuracy: 0.9880\n"
     ]
    }
   ],
   "execution_count": 23
  },
  {
   "metadata": {
    "ExecuteTime": {
     "end_time": "2024-06-01T16:16:17.851325Z",
     "start_time": "2024-06-01T16:16:15.887630Z"
    }
   },
   "cell_type": "code",
   "source": [
    "import pandas as pd\n",
    "import matplotlib.pyplot as plt"
   ],
   "id": "b2885913740b5c0c",
   "outputs": [],
   "execution_count": 24
  },
  {
   "metadata": {
    "ExecuteTime": {
     "end_time": "2024-06-01T16:16:48.448761Z",
     "start_time": "2024-06-01T16:16:48.435796Z"
    }
   },
   "cell_type": "code",
   "source": "history_df = pd.DataFrame(history.history)",
   "id": "cbd524da7ae3a22f",
   "outputs": [],
   "execution_count": 25
  },
  {
   "metadata": {
    "ExecuteTime": {
     "end_time": "2024-06-01T16:16:54.893749Z",
     "start_time": "2024-06-01T16:16:54.869818Z"
    }
   },
   "cell_type": "code",
   "source": "history_df",
   "id": "ed68b2a9b2d53406",
   "outputs": [
    {
     "data": {
      "text/plain": [
       "       loss  accuracy  val_loss  val_accuracy\n",
       "0  0.226535  0.920798  0.113018      0.967369\n",
       "1  0.070034  0.976779  0.084562      0.970381\n",
       "2  0.047400  0.985189  0.056054      0.979920\n",
       "3  0.032472  0.989205  0.053997      0.982430\n",
       "4  0.028330  0.989959  0.051702      0.980422\n",
       "5  0.020207  0.993473  0.084436      0.977912\n",
       "6  0.007555  0.997741  0.043614      0.989960\n",
       "7  0.005604  0.998368  0.055759      0.987450\n",
       "8  0.018499  0.994101  0.057664      0.984940\n",
       "9  0.008886  0.996988  0.054318      0.987952"
      ],
      "text/html": [
       "<div>\n",
       "<style scoped>\n",
       "    .dataframe tbody tr th:only-of-type {\n",
       "        vertical-align: middle;\n",
       "    }\n",
       "\n",
       "    .dataframe tbody tr th {\n",
       "        vertical-align: top;\n",
       "    }\n",
       "\n",
       "    .dataframe thead th {\n",
       "        text-align: right;\n",
       "    }\n",
       "</style>\n",
       "<table border=\"1\" class=\"dataframe\">\n",
       "  <thead>\n",
       "    <tr style=\"text-align: right;\">\n",
       "      <th></th>\n",
       "      <th>loss</th>\n",
       "      <th>accuracy</th>\n",
       "      <th>val_loss</th>\n",
       "      <th>val_accuracy</th>\n",
       "    </tr>\n",
       "  </thead>\n",
       "  <tbody>\n",
       "    <tr>\n",
       "      <th>0</th>\n",
       "      <td>0.226535</td>\n",
       "      <td>0.920798</td>\n",
       "      <td>0.113018</td>\n",
       "      <td>0.967369</td>\n",
       "    </tr>\n",
       "    <tr>\n",
       "      <th>1</th>\n",
       "      <td>0.070034</td>\n",
       "      <td>0.976779</td>\n",
       "      <td>0.084562</td>\n",
       "      <td>0.970381</td>\n",
       "    </tr>\n",
       "    <tr>\n",
       "      <th>2</th>\n",
       "      <td>0.047400</td>\n",
       "      <td>0.985189</td>\n",
       "      <td>0.056054</td>\n",
       "      <td>0.979920</td>\n",
       "    </tr>\n",
       "    <tr>\n",
       "      <th>3</th>\n",
       "      <td>0.032472</td>\n",
       "      <td>0.989205</td>\n",
       "      <td>0.053997</td>\n",
       "      <td>0.982430</td>\n",
       "    </tr>\n",
       "    <tr>\n",
       "      <th>4</th>\n",
       "      <td>0.028330</td>\n",
       "      <td>0.989959</td>\n",
       "      <td>0.051702</td>\n",
       "      <td>0.980422</td>\n",
       "    </tr>\n",
       "    <tr>\n",
       "      <th>5</th>\n",
       "      <td>0.020207</td>\n",
       "      <td>0.993473</td>\n",
       "      <td>0.084436</td>\n",
       "      <td>0.977912</td>\n",
       "    </tr>\n",
       "    <tr>\n",
       "      <th>6</th>\n",
       "      <td>0.007555</td>\n",
       "      <td>0.997741</td>\n",
       "      <td>0.043614</td>\n",
       "      <td>0.989960</td>\n",
       "    </tr>\n",
       "    <tr>\n",
       "      <th>7</th>\n",
       "      <td>0.005604</td>\n",
       "      <td>0.998368</td>\n",
       "      <td>0.055759</td>\n",
       "      <td>0.987450</td>\n",
       "    </tr>\n",
       "    <tr>\n",
       "      <th>8</th>\n",
       "      <td>0.018499</td>\n",
       "      <td>0.994101</td>\n",
       "      <td>0.057664</td>\n",
       "      <td>0.984940</td>\n",
       "    </tr>\n",
       "    <tr>\n",
       "      <th>9</th>\n",
       "      <td>0.008886</td>\n",
       "      <td>0.996988</td>\n",
       "      <td>0.054318</td>\n",
       "      <td>0.987952</td>\n",
       "    </tr>\n",
       "  </tbody>\n",
       "</table>\n",
       "</div>"
      ]
     },
     "execution_count": 26,
     "metadata": {},
     "output_type": "execute_result"
    }
   ],
   "execution_count": 26
  },
  {
   "metadata": {
    "ExecuteTime": {
     "end_time": "2024-06-01T16:18:52.650432Z",
     "start_time": "2024-06-01T16:18:52.506815Z"
    }
   },
   "cell_type": "code",
   "source": [
    "history_df[['loss', 'val_loss']].plot(kind='line')\n",
    "plt.xlabel('Epochs')\n",
    "plt.ylabel('Loss')\n",
    "plt.xticks(list(range(10)), list(range(1, 11)))\n",
    "plt.show()"
   ],
   "id": "f7a75df21182c765",
   "outputs": [
    {
     "data": {
      "text/plain": [
       "<Figure size 640x480 with 1 Axes>"
      ],
      "image/png": "[encoded data removed]"
     },
     "metadata": {},
     "output_type": "display_data"
    }
   ],
   "execution_count": 29
  },
  {
   "metadata": {},
   "cell_type": "markdown",
   "source": "# Our model is not overfit.train and validation loss as we can see is decreasing.",
   "id": "dcfe317f5aa77e76"
  },
  {
   "metadata": {
    "ExecuteTime": {
     "end_time": "2024-06-01T16:21:02.505224Z",
     "start_time": "2024-06-01T16:21:02.352126Z"
    }
   },
   "cell_type": "code",
   "source": [
    "history_df[['accuracy', 'val_accuracy']].plot(kind='line')\n",
    "plt.xlabel('Epochs')\n",
    "plt.ylabel('Accuracy')\n",
    "plt.xticks(list(range(10)), list(range(1, 11)))\n",
    "plt.show()"
   ],
   "id": "b661b8c77e0d8e16",
   "outputs": [
    {
     "data": {
      "text/plain": [
       "<Figure size 640x480 with 1 Axes>"
      ],
      "image/png": "[encoded data removed]"
     },
     "metadata": {},
     "output_type": "display_data"
    }
   ],
   "execution_count": 30
  },
  {
   "metadata": {
    "ExecuteTime": {
     "end_time": "2024-06-01T16:22:42.515801Z",
     "start_time": "2024-06-01T16:22:40.768457Z"
    }
   },
   "cell_type": "code",
   "source": [
    "# Save CNN Model\n",
    "model.save('face_cnn_model')"
   ],
   "id": "8037128e7a17246c",
   "outputs": [
    {
     "name": "stdout",
     "output_type": "stream",
     "text": [
      "INFO:tensorflow:Assets written to: face_cnn_model\\assets\n"
     ]
    },
    {
     "name": "stderr",
     "output_type": "stream",
     "text": [
      "INFO:tensorflow:Assets written to: face_cnn_model\\assets\n"
     ]
    }
   ],
   "execution_count": 31
  },
  {
   "metadata": {
    "ExecuteTime": {
     "end_time": "2024-06-01T16:30:42.334472Z",
     "start_time": "2024-06-01T16:30:42.323501Z"
    }
   },
   "cell_type": "code",
   "source": "onehot.categories_",
   "id": "9f1ae2baa30713a0",
   "outputs": [
    {
     "data": {
      "text/plain": [
       "[array(['Mask', 'Mask_Chin', 'Mask_Mouth_Chin', 'Mask_Nose_Mouth'],\n",
       "       dtype='<U15')]"
      ]
     },
     "execution_count": 32,
     "metadata": {},
     "output_type": "execute_result"
    }
   ],
   "execution_count": 32
  },
  {
   "metadata": {},
   "cell_type": "code",
   "outputs": [],
   "execution_count": null,
   "source": "",
   "id": "9d33fe9aec0d2eec"
  }
 ],
 "metadata": {
  "kernelspec": {
   "display_name": "Python 3",
   "language": "python",
   "name": "python3"
  },
  "language_info": {
   "codemirror_mode": {
    "name": "ipython",
    "version": 2
   },
   "file_extension": ".py",
   "mimetype": "text/x-python",
   "name": "python",
   "nbconvert_exporter": "python",
   "pygments_lexer": "ipython2",
   "version": "2.7.6"
  }
 },
 "nbformat": 4,
 "nbformat_minor": 5
}
