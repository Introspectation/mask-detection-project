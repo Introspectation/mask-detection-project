{
 "cells": [
  {
   "metadata": {},
   "cell_type": "markdown",
   "source": "TRAIN DEEP LEARNING MODEL",
   "id": "839193f4f62dfb3d"
  },
  {
   "metadata": {},
   "cell_type": "markdown",
   "source": "### step-1 Load the preprocess data",
   "id": "82d183edb05b3659"
  },
  {
   "metadata": {
    "ExecuteTime": {
     "end_time": "2024-06-01T15:11:53.208751Z",
     "start_time": "2024-06-01T15:11:52.984351Z"
    }
   },
   "cell_type": "code",
   "source": [
    "import os\n",
    "import numpy as np\n",
    "import cv2\n",
    "import gc"
   ],
   "id": "8615f675adf1a10",
   "outputs": [],
   "execution_count": 1
  },
  {
   "metadata": {
    "ExecuteTime": {
     "end_time": "2024-06-01T15:11:53.224706Z",
     "start_time": "2024-06-01T15:11:53.211747Z"
    }
   },
   "cell_type": "code",
   "source": [
    "# Projenin rootunu src'den bir kademe yukarıya çek\n",
    "project_root = 'C:/Users/mertt/PycharmProjects/mask-detection-project'\n"
   ],
   "id": "13a6df734459ba6",
   "outputs": [],
   "execution_count": 2
  },
  {
   "metadata": {
    "ExecuteTime": {
     "end_time": "2024-06-01T15:11:53.240671Z",
     "start_time": "2024-06-01T15:11:53.229696Z"
    }
   },
   "cell_type": "code",
   "source": [
    "# Çalışan dosya dizinini roota çek\n",
    "os.chdir(project_root)\n",
    "print(\"Çalışan dosya dizini:\", os.getcwd())"
   ],
   "id": "6bee0eddfec8096",
   "outputs": [
    {
     "name": "stdout",
     "output_type": "stream",
     "text": [
      "Çalışan dosya dizini: C:\\Users\\mertt\\PycharmProjects\\mask-detection-project\n"
     ]
    }
   ],
   "execution_count": 3
  },
  {
   "metadata": {
    "ExecuteTime": {
     "end_time": "2024-06-01T15:11:53.255626Z",
     "start_time": "2024-06-01T15:11:53.245652Z"
    }
   },
   "cell_type": "code",
   "source": [
    "#Load the preprocessed data\n",
    "data = np.load('./data/data_preprocess.npz')"
   ],
   "id": "4ad73ffca2224e57",
   "outputs": [],
   "execution_count": 4
  },
  {
   "metadata": {
    "ExecuteTime": {
     "end_time": "2024-06-01T15:11:55.510595Z",
     "start_time": "2024-06-01T15:11:53.258617Z"
    }
   },
   "cell_type": "code",
   "source": [
    "X =data ['arr_0']\n",
    "y = data['arr_1']"
   ],
   "id": "bfb8916ae85daf30",
   "outputs": [],
   "execution_count": 5
  },
  {
   "metadata": {
    "ExecuteTime": {
     "end_time": "2024-06-01T15:11:55.526553Z",
     "start_time": "2024-06-01T15:11:55.512590Z"
    }
   },
   "cell_type": "code",
   "source": "X.shape, y.shape",
   "id": "b93cf76ffbfdc8c2",
   "outputs": [
    {
     "data": {
      "text/plain": [
       "((9959, 100, 100, 3), (9959,))"
      ]
     },
     "execution_count": 6,
     "metadata": {},
     "output_type": "execute_result"
    }
   ],
   "execution_count": 6
  },
  {
   "metadata": {
    "ExecuteTime": {
     "end_time": "2024-06-01T15:11:55.542510Z",
     "start_time": "2024-06-01T15:11:55.528547Z"
    }
   },
   "cell_type": "code",
   "source": "np.unique(y)",
   "id": "41acb93d24df9069",
   "outputs": [
    {
     "data": {
      "text/plain": [
       "array(['Mask', 'Mask_Chin', 'Mask_Mouth_Chin', 'Mask_Nose_Mouth'],\n",
       "      dtype='<U15')"
      ]
     },
     "execution_count": 7,
     "metadata": {},
     "output_type": "execute_result"
    }
   ],
   "execution_count": 7
  },
  {
   "metadata": {},
   "cell_type": "markdown",
   "source": "### Preprocessing \"y\"",
   "id": "96723b4a44d6da2b"
  },
  {
   "metadata": {
    "ExecuteTime": {
     "end_time": "2024-06-01T15:11:55.558468Z",
     "start_time": "2024-06-01T15:11:55.545502Z"
    }
   },
   "cell_type": "code",
   "source": "np.unique(y)",
   "id": "712db4ba9f2ea304",
   "outputs": [
    {
     "data": {
      "text/plain": [
       "array(['Mask', 'Mask_Chin', 'Mask_Mouth_Chin', 'Mask_Nose_Mouth'],\n",
       "      dtype='<U15')"
      ]
     },
     "execution_count": 8,
     "metadata": {},
     "output_type": "execute_result"
    }
   ],
   "execution_count": 8
  },
  {
   "metadata": {
    "ExecuteTime": {
     "end_time": "2024-06-01T15:11:56.617637Z",
     "start_time": "2024-06-01T15:11:55.560463Z"
    }
   },
   "cell_type": "code",
   "source": "from sklearn.preprocessing import OneHotEncoder",
   "id": "6df0b9e6d37c4053",
   "outputs": [],
   "execution_count": 9
  },
  {
   "metadata": {
    "ExecuteTime": {
     "end_time": "2024-06-01T15:11:56.647559Z",
     "start_time": "2024-06-01T15:11:56.619631Z"
    }
   },
   "cell_type": "code",
   "source": [
    "onehot = OneHotEncoder()\n",
    "y_onehot = onehot.fit_transform(y.reshape(-1, 1))"
   ],
   "id": "aad0f8ef60a9237",
   "outputs": [],
   "execution_count": 10
  },
  {
   "metadata": {
    "ExecuteTime": {
     "end_time": "2024-06-01T15:12:11.269646Z",
     "start_time": "2024-06-01T15:12:11.254686Z"
    }
   },
   "cell_type": "code",
   "source": "y_array = y_onehot.toarray()",
   "id": "27de2caed021f999",
   "outputs": [],
   "execution_count": 12
  },
  {
   "metadata": {
    "ExecuteTime": {
     "end_time": "2024-06-01T15:13:25.855266Z",
     "start_time": "2024-06-01T15:13:25.845293Z"
    }
   },
   "cell_type": "code",
   "source": [
    "y_array.shape\n",
    "#1st column belongst o mask 1 or 0 etc for categories\n",
    "#mask chin\n",
    "#mask mouth chin\n",
    "#mask nose chin mouth"
   ],
   "id": "b5fd567c68853415",
   "outputs": [
    {
     "data": {
      "text/plain": [
       "(9959, 4)"
      ]
     },
     "execution_count": 15,
     "metadata": {},
     "output_type": "execute_result"
    }
   ],
   "execution_count": 15
  },
  {
   "metadata": {},
   "cell_type": "markdown",
   "source": "### Split the Data into Train and Test sets",
   "id": "67be13a4c5faafa7"
  },
  {
   "metadata": {
    "ExecuteTime": {
     "end_time": "2024-06-01T15:15:12.914776Z",
     "start_time": "2024-06-01T15:15:12.490909Z"
    }
   },
   "cell_type": "code",
   "source": [
    "from sklearn.model_selection import train_test_split\n",
    "x_train, x_test, y_train, y_test = train_test_split(X, y_array, test_size=0.2, random_state=42)"
   ],
   "id": "930623222f654a71",
   "outputs": [],
   "execution_count": 16
  },
  {
   "metadata": {
    "ExecuteTime": {
     "end_time": "2024-06-01T15:15:30.400420Z",
     "start_time": "2024-06-01T15:15:30.387454Z"
    }
   },
   "cell_type": "code",
   "source": "x_train.shape, x_test.shape, y_train.shape, y_test.shape",
   "id": "c2f9d0c3c5ce366c",
   "outputs": [
    {
     "data": {
      "text/plain": [
       "((7967, 100, 100, 3), (1992, 100, 100, 3), (7967, 4), (1992, 4))"
      ]
     },
     "execution_count": 17,
     "metadata": {},
     "output_type": "execute_result"
    }
   ],
   "execution_count": 17
  },
  {
   "metadata": {},
   "cell_type": "markdown",
   "source": [
    "### DEEP LEARNING MODEL\n",
    "![Description of image](architecture.png)\n",
    "\n"
   ],
   "id": "f4fc47c979617af7"
  },
  {
   "metadata": {},
   "cell_type": "markdown",
   "source": "",
   "id": "d2c8c0deaab195ba"
  }
 ],
 "metadata": {
  "kernelspec": {
   "display_name": "Python 3",
   "language": "python",
   "name": "python3"
  },
  "language_info": {
   "codemirror_mode": {
    "name": "ipython",
    "version": 2
   },
   "file_extension": ".py",
   "mimetype": "text/x-python",
   "name": "python",
   "nbconvert_exporter": "python",
   "pygments_lexer": "ipython2",
   "version": "2.7.6"
  }
 },
 "nbformat": 4,
 "nbformat_minor": 5
}
