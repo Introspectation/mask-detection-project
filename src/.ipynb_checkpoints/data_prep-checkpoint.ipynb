{
 "cells": [
  {
   "cell_type": "code",
   "id": "initial_id",
   "metadata": {
    "collapsed": true,
    "jupyter": {
     "is_executing": true
    }
   },
   "source": [
    "#import libraries\n",
    "import os\n",
    "import numpy as np\n",
    "import pandas as pd\n",
    "import cv2\n",
    "import gc\n",
    "from tqdm import tqdm\n",
    "from glob import glob"
   ],
   "outputs": [],
   "execution_count": null
  },
  {
   "metadata": {},
   "cell_type": "markdown",
   "source": [
    "Step 1 and 2\n",
    "collect all data\n",
    "-labeling"
   ],
   "id": "befa1240b4ea4a22"
  },
  {
   "metadata": {
    "ExecuteTime": {
     "end_time": "2024-05-31T20:48:12.356727Z",
     "start_time": "2024-05-31T20:48:12.352739Z"
    }
   },
   "cell_type": "code",
   "source": [
    "# Projenin rootunu src'den bir kademe yukarıya çek\n",
    "project_root = 'C:/Users/mertt/PycharmProjects/mask-detection-project'\n"
   ],
   "id": "ff31baf0e5c102e5",
   "outputs": [],
   "execution_count": 54
  },
  {
   "metadata": {
    "ExecuteTime": {
     "end_time": "2024-05-31T20:48:13.701656Z",
     "start_time": "2024-05-31T20:48:13.682708Z"
    }
   },
   "cell_type": "code",
   "source": [
    "# Çalışan dosya dizinini roota çek\n",
    "os.chdir(project_root)\n",
    "print(\"Çalışan dosya dizini:\", os.getcwd())"
   ],
   "id": "7611d8258d0ef729",
   "outputs": [
    {
     "name": "stdout",
     "output_type": "stream",
     "text": [
      "Çalışan dosya dizini: C:\\Users\\mertt\\PycharmProjects\\mask-detection-project\n"
     ]
    }
   ],
   "execution_count": 55
  },
  {
   "metadata": {
    "ExecuteTime": {
     "end_time": "2024-05-31T20:48:16.005064Z",
     "start_time": "2024-05-31T20:48:15.950213Z"
    }
   },
   "cell_type": "code",
   "source": [
    "dirs = os.listdir('data/images')\n",
    "images_path = []\n",
    "labels = []\n",
    "\n",
    "for folder in dirs:\n",
    "    path = glob('./data/images/{}/*.jpg'.format(folder))\n",
    "    label = ['{}'.format(folder)]*len(path)\n",
    "    #append\n",
    "    images_path.extend(path)\n",
    "    labels.extend(label)"
   ],
   "id": "a50503e0a51d7a72",
   "outputs": [],
   "execution_count": 56
  },
  {
   "metadata": {},
   "cell_type": "markdown",
   "source": [
    "**STEP-3\n",
    "-face detection"
   ],
   "id": "e3a81a77c05b5562"
  },
  {
   "metadata": {
    "ExecuteTime": {
     "end_time": "2024-05-31T20:49:31.011434Z",
     "start_time": "2024-05-31T20:49:30.989494Z"
    }
   },
   "cell_type": "code",
   "source": [
    "img_path = images_path[1]\n",
    "img = cv2.imread(img_path)"
   ],
   "id": "4697b5e1df795891",
   "outputs": [],
   "execution_count": 59
  },
  {
   "metadata": {
    "ExecuteTime": {
     "end_time": "2024-05-31T20:49:58.363782Z",
     "start_time": "2024-05-31T20:49:55.900426Z"
    }
   },
   "cell_type": "code",
   "source": [
    "cv2.imshow('original', img)\n",
    "cv2.waitKey(0)\n",
    "cv2.destroyAllWindows()"
   ],
   "id": "f9035be3c1e782bf",
   "outputs": [],
   "execution_count": 60
  },
  {
   "metadata": {
    "ExecuteTime": {
     "end_time": "2024-05-31T21:00:23.941256Z",
     "start_time": "2024-05-31T21:00:23.916324Z"
    }
   },
   "cell_type": "code",
   "source": [
    "# face detection\n",
    "face_detection_model = cv2.dnn.readNetFromCaffe('./models/deploy.prototxt', './models/res10_300x300_ssd_iter_140000_fp16.caffemodel')"
   ],
   "id": "4b6345d8d01c664b",
   "outputs": [],
   "execution_count": 63
  },
  {
   "metadata": {
    "ExecuteTime": {
     "end_time": "2024-05-31T21:03:46.527579Z",
     "start_time": "2024-05-31T21:03:46.507632Z"
    }
   },
   "cell_type": "code",
   "source": [
    "# blob from image (rgb mean subtraction image)\n",
    "image = img.copy()\n",
    "h,w = image.shape[:2]\n",
    "blob = cv2.dnn.blobFromImage(image, 1, (300,300), (104, 117, 123), swapRB=True)\n",
    "#get the detections\n",
    "face_detection_model.setInput(blob)\n",
    "detections = face_"
   ],
   "id": "835b040874689f96",
   "outputs": [],
   "execution_count": 64
  },
  {
   "metadata": {},
   "cell_type": "code",
   "outputs": [],
   "execution_count": null,
   "source": "",
   "id": "6431d658a17f6a4a"
  }
 ],
 "metadata": {
  "kernelspec": {
   "display_name": "Python (mask-detection-env)",
   "language": "python",
   "name": "mask-detection-env"
  },
  "language_info": {
   "codemirror_mode": {
    "name": "ipython",
    "version": 2
   },
   "file_extension": ".py",
   "mimetype": "text/x-python",
   "name": "python",
   "nbconvert_exporter": "python",
   "pygments_lexer": "ipython2",
   "version": "2.7.6"
  }
 },
 "nbformat": 4,
 "nbformat_minor": 5
}
